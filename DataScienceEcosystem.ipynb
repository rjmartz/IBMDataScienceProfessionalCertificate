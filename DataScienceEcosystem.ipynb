{
 "cells": [
  {
   "cell_type": "markdown",
   "id": "474a4dc1-c458-48b0-bd01-784890dffd63",
   "metadata": {
    "tags": []
   },
   "source": [
    "# Data Science Tools and Ecosystem"
   ]
  },
  {
   "cell_type": "markdown",
   "id": "fc20076b-0dc3-4ea1-8f57-3fff57d0de23",
   "metadata": {},
   "source": [
    "## Author:\n",
    "Robert (RJ) Martz"
   ]
  },
  {
   "cell_type": "markdown",
   "id": "6d88df39-ed8b-471a-ba89-1b5cd08f3c5b",
   "metadata": {},
   "source": [
    "In this notebook, Data Science Tools and Ecosystem are summarized."
   ]
  },
  {
   "cell_type": "markdown",
   "id": "6256417f-1560-4442-85ad-6b59ad5166d1",
   "metadata": {},
   "source": [
    "Objectives:\n",
    "- Review commonly used data science programming languages\n",
    "- Review commonly utilized data science libraries\n",
    "- Review common open source data science tools\n",
    "- Review arithmetic expressions and output in Python"
   ]
  },
  {
   "cell_type": "markdown",
   "id": "3002497c-d397-4e28-970f-3341709898e8",
   "metadata": {
    "tags": []
   },
   "source": [
    "Some of the popular languages that Data Scientists use are:\n",
    "1. Python\n",
    "2. R\n",
    "3. SQL"
   ]
  },
  {
   "cell_type": "markdown",
   "id": "c432a288-616f-402a-8418-d2332df079b3",
   "metadata": {},
   "source": [
    "Some of the commonly used libraries used by Data Scientists include:\n",
    "1. matplotlib\n",
    "2. tensorflow\n",
    "3. numpy"
   ]
  },
  {
   "cell_type": "markdown",
   "id": "8f6b5e74-e356-49be-a787-272a4a2c79bf",
   "metadata": {
    "jupyter": {
     "source_hidden": true
    },
    "tags": []
   },
   "source": [
    "|Data Science Tools|\n",
    "--------------------\n",
    "|Hadoop|\n",
    "|Spark|\n",
    "|JupyterLab/Notebooks|"
   ]
  },
  {
   "cell_type": "markdown",
   "id": "b9e96905-318e-4660-a61f-9234ab219852",
   "metadata": {},
   "source": [
    "### Below are a few examples of evaluating arithmetic expressions in Python"
   ]
  },
  {
   "cell_type": "code",
   "execution_count": 6,
   "id": "2482017f-fa0e-4d71-a390-46dddcff65a7",
   "metadata": {
    "tags": []
   },
   "outputs": [
    {
     "data": {
      "text/plain": [
       "17"
      ]
     },
     "execution_count": 6,
     "metadata": {},
     "output_type": "execute_result"
    }
   ],
   "source": [
    "# This is a simple arithmetic expression to mutiply then add integers\n",
    "(3*4)+5"
   ]
  },
  {
   "cell_type": "code",
   "execution_count": 7,
   "id": "cd21f959-6b90-4164-b6c3-62909d7ac21e",
   "metadata": {
    "tags": []
   },
   "outputs": [
    {
     "name": "stdout",
     "output_type": "stream",
     "text": [
      "3.3333333333333335\n"
     ]
    }
   ],
   "source": [
    "# This will convert 200 minutes to hours by diving by 60\n",
    "minutes = 200\n",
    "hours = minutes/60\n",
    "print(hours)"
   ]
  }
 ],
 "metadata": {
  "kernelspec": {
   "display_name": "Python 3 (ipykernel)",
   "language": "python",
   "name": "python3"
  },
  "language_info": {
   "codemirror_mode": {
    "name": "ipython",
    "version": 3
   },
   "file_extension": ".py",
   "mimetype": "text/x-python",
   "name": "python",
   "nbconvert_exporter": "python",
   "pygments_lexer": "ipython3",
   "version": "3.11.4"
  }
 },
 "nbformat": 4,
 "nbformat_minor": 5
}
